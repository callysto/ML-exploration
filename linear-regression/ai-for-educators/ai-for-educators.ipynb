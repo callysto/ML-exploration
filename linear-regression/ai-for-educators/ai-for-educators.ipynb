{
 "cells": [
  {
   "cell_type": "markdown",
   "metadata": {
    "slideshow": {
     "slide_type": "skip"
    }
   },
   "source": [
    "## To use this slideshow:\n",
    "- Run All, using the menu item: Kernel/Restart & Run All\n",
    "- Return to this top cell\n",
    "- click on \"Slideshow\" menu item above, that looks like this:\n",
    "![](images/SlideIcon.png)"
   ]
  },
  {
   "cell_type": "markdown",
   "metadata": {
    "slideshow": {
     "slide_type": "slide"
    }
   },
   "source": [
    "![Callysto.ca Banner](https://github.com/callysto/curriculum-notebooks/blob/master/callysto-notebook-banner-top.jpg?raw=true)\n",
    "\n",
    "\n",
    "<h1 align='center'>Artificial Intelligence for Educators</h1>\n",
    "\n",
    "<h2 align='center'>with Laura G Funderburk</h2>\n",
    "\n",
    "<h4 align='center'>On Twitter: @LGFunderburk </h4>\n",
    "\n",
    "![Callysto.ca License](https://github.com/callysto/curriculum-notebooks/blob/master/callysto-notebook-banner-bottom.jpg?raw=true)"
   ]
  },
  {
   "cell_type": "markdown",
   "metadata": {
    "slideshow": {
     "slide_type": "slide"
    }
   },
   "source": [
    "<h2 align='center'> About the Callysto Program</h2>\n",
    "\n",
    "- Provide open educational infrastructure and learning resources\n",
    "- Focus on making computational thinking and data science/literacy available\n",
    "- Use Jupyter notebooks as main platform\n",
    "- Host teacher and student training workshops\n",
    "\n",
    "<h3 align='center'>Brought to you by</h3>\n",
    "\n",
    "\n",
    "| | | |\n",
    "|-|-|-|\n",
    "|<img src=\"./images/Cybera_Logo_RBG_Colour.png\" alt=\"Drawing\" style=\"width: 300px;\"/>|<img src=\"./images/PIMS_Logos_Web_PIMS_Logo_Colour.png\" alt=\"Drawing\" style=\"width: 400px;\"/>| <img src=\"./images/With_Funding_Canada_Wordmark-colour_BIL-EN.png\" alt=\"Drawing\" style=\"width: 400px;\"/>|"
   ]
  },
  {
   "cell_type": "markdown",
   "metadata": {
    "slideshow": {
     "slide_type": "slide"
    }
   },
   "source": [
    "<h2 align='center'>What is a Jupyter notebook?</h2>\n",
    "\n",
    "A Jupyter notebook is an online document that can include both text and (Python) code in different “cells” or parts of the document.\n",
    "\n",
    "These documents run on Callysto Hub as well as Google Colab, IBM Watson Studio, and other places.\n",
    "\n",
    "\n",
    "This presentation is a Jupyter notebook!"
   ]
  },
  {
   "cell_type": "markdown",
   "metadata": {
    "slideshow": {
     "slide_type": "slide"
    }
   },
   "source": [
    "<h2 align='center'>What is Callysto?</h2>\n",
    "\n",
    "Callysto is a free, online learning tool that helps students and teachers learn and apply in-demand data science skills including data analysis, visualization, coding, and computational thinking. The online tool’s interactive learning modules are available in a variety of subjects – from math to history – and are aligned with existing curriculum.\n",
    "\n",
    "Callysto’s learning modules are built using Jupyter notebooks."
   ]
  },
  {
   "cell_type": "markdown",
   "metadata": {
    "slideshow": {
     "slide_type": "slide"
    }
   },
   "source": [
    "<h2 align='center'> Callysto notebooks ready for you to use</h2>\n",
    "\n",
    "On our website callysto.ca you will find lesson plans, courses and learning modules that support you incorporate coding into your stats lesson. \n",
    "\n",
    "#### Objective: explore how we can use Callysto to explore machine learning in the classroom\n",
    "\n",
    "\n",
    "| |\n",
    "|-|\n",
    "|<img src=\"./images/samplenotebooks.png\" width=\"600\">|\n",
    "\n"
   ]
  },
  {
   "attachments": {},
   "cell_type": "markdown",
   "metadata": {
    "slideshow": {
     "slide_type": "slide"
    }
   },
   "source": [
    "<h2 align='center'>What is Data?</h2>\n",
    "\n",
    "Data is a collection of information. Usually obtained (or collected) to address a specific issue. \n",
    "\n",
    "Examples of data:\n",
    "\n",
    "- Daily number of COVID-19 cases in Canada.\n",
    "- The grades of your class. \n",
    "- Census data.\n",
    "\n",
    "<center><img src=\"https://img2.pngio.com/download-free-png-19-data-graph-icon-packs-vector-icon-packs-data-graph-png-600_564.png\" width=\"400\"></center>"
   ]
  },
  {
   "cell_type": "markdown",
   "metadata": {
    "slideshow": {
     "slide_type": "slide"
    }
   },
   "source": [
    "<h2 align='center'>What is Data Science?</h2>\n",
    "\n",
    "Data science involves <b>obtaining</b> and <b>communicating</b> information from (usually large) sets of observations.\n",
    "\n",
    "\n",
    "| |\n",
    "|-|\n",
    "| <img src=\"./images/what-is-data-science-workflow.jpg\" alt=\"Drawing\" style=\"width:800px;\"/> |\n",
    "\n"
   ]
  },
  {
   "cell_type": "markdown",
   "metadata": {
    "slideshow": {
     "slide_type": "slide"
    }
   },
   "source": [
    "<h2 align='center'>What is Artificial Intelligence?</h2>\n",
    "\n",
    "Artificial Intelligence (AI) is a blanket term describing all efforts to make computer “think”.\n",
    "\n",
    "Machine Learning (ML) algorithms are programs that improve, or “learn”, through exposure to data/experience.\n",
    "\n",
    "ML is based on the idea that machines should be able to learn and adapt through experience. AI refers to a broader idea where machines can execute tasks \"smartly.\"\n",
    "\n",
    "AI applies ML and other techniques to solve actual problems.\n",
    "\n"
   ]
  },
  {
   "cell_type": "markdown",
   "metadata": {
    "slideshow": {
     "slide_type": "slide"
    }
   },
   "source": [
    "<h2 align='center'>Let's work through an example</h2>\n",
    "\n",
    "\n",
    "Let's take a look at a problem involving biology. Can we \"train\" a machine to predict what type of Iris flower we are studying, based on its petal and sepal length and/or width?\n",
    "\n",
    "![Iris flower](https://s3.amazonaws.com/assets.datacamp.com/blog_assets/Machine+Learning+R/iris-machinelearning.png)"
   ]
  },
  {
   "cell_type": "markdown",
   "metadata": {
    "slideshow": {
     "slide_type": "subslide"
    }
   },
   "source": [
    "<h3 align='center'>This data set has been collected and cleaned</h3>\n",
    "\n",
    "<h3 align='center'>Our focus: exploratory analysis</h3>"
   ]
  },
  {
   "cell_type": "code",
   "execution_count": null,
   "metadata": {
    "slideshow": {
     "slide_type": "skip"
    }
   },
   "outputs": [],
   "source": [
    "# load and visualize the data\n",
    "from pandas import read_csv\n",
    "from sklearn import datasets\n",
    "import pandas as pd\n",
    "import seaborn as sns\n",
    "from pandas.plotting import scatter_matrix\n",
    "# machine learning\n",
    "from sklearn.model_selection import train_test_split\n",
    "# compare algorithms\n",
    "from sklearn.svm import SVC\n",
    "# Evaluate model\n",
    "from sklearn.metrics import accuracy_score\n",
    "from sklearn.metrics import confusion_matrix\n",
    "from sklearn.metrics import classification_report\n",
    "from sklearn.metrics import plot_confusion_matrix\n",
    "from sklearn import svm, datasets\n",
    "import matplotlib.pyplot as plt"
   ]
  },
  {
   "cell_type": "code",
   "execution_count": null,
   "metadata": {
    "slideshow": {
     "slide_type": "subslide"
    }
   },
   "outputs": [],
   "source": [
    "# Load dataset\n",
    "iris = datasets.load_iris()\n",
    "X = iris.data\n",
    "y = iris.target\n",
    "df = pd.DataFrame(X, columns = iris.feature_names)\n",
    "df['y'] = y\n",
    "\n",
    "df['y'].replace({0:\"Iris-setosa\",\n",
    "           1: \"Iris-versicolor\",\n",
    "           2: \"Iris-virginica\"},inplace=True)\n",
    "\n",
    "df.head()"
   ]
  },
  {
   "cell_type": "markdown",
   "metadata": {
    "slideshow": {
     "slide_type": "slide"
    }
   },
   "source": [
    "### Getting summary stats for all Iris flowers"
   ]
  },
  {
   "cell_type": "code",
   "execution_count": null,
   "metadata": {
    "slideshow": {
     "slide_type": "subslide"
    }
   },
   "outputs": [],
   "source": [
    "df.describe()"
   ]
  },
  {
   "cell_type": "markdown",
   "metadata": {
    "slideshow": {
     "slide_type": "slide"
    }
   },
   "source": [
    "### Getting summar stats for specific types of Iris flower"
   ]
  },
  {
   "cell_type": "code",
   "execution_count": null,
   "metadata": {
    "slideshow": {
     "slide_type": "subslide"
    }
   },
   "outputs": [],
   "source": [
    "setosa = df[df['y']=='Iris-setosa']\n",
    "versicolor = df[df['y']=='Iris-versicolor']\n",
    "virginica = df[df['y']=='Iris-virginica']\n",
    "\n",
    "virginica.describe()"
   ]
  },
  {
   "cell_type": "markdown",
   "metadata": {
    "slideshow": {
     "slide_type": "slide"
    }
   },
   "source": [
    "### Generating visualization from summary stats"
   ]
  },
  {
   "cell_type": "code",
   "execution_count": null,
   "metadata": {
    "slideshow": {
     "slide_type": "subslide"
    }
   },
   "outputs": [],
   "source": [
    "# box and whisker plots\n",
    "sns.boxplot(x=\"y\", y='sepal length (cm)', data=df,hue='y');\n",
    "sns.swarmplot(x=\"y\", y='sepal length (cm)', data=df);"
   ]
  },
  {
   "cell_type": "markdown",
   "metadata": {
    "slideshow": {
     "slide_type": "slide"
    }
   },
   "source": [
    "### Generating distribution visualization"
   ]
  },
  {
   "cell_type": "code",
   "execution_count": null,
   "metadata": {
    "slideshow": {
     "slide_type": "subslide"
    }
   },
   "outputs": [],
   "source": [
    "# histograms\n",
    "df.hist(figsize=(10,6))\n",
    "plt.show()"
   ]
  },
  {
   "cell_type": "markdown",
   "metadata": {
    "slideshow": {
     "slide_type": "slide"
    }
   },
   "source": [
    "### More visualizations"
   ]
  },
  {
   "cell_type": "code",
   "execution_count": null,
   "metadata": {
    "slideshow": {
     "slide_type": "subslide"
    }
   },
   "outputs": [],
   "source": [
    "sns.pairplot(df,hue='y');"
   ]
  },
  {
   "cell_type": "markdown",
   "metadata": {
    "slideshow": {
     "slide_type": "slide"
    }
   },
   "source": [
    "## Can we predict class of Iris based on these four measurements?\n",
    "\n",
    "Yes! "
   ]
  },
  {
   "cell_type": "markdown",
   "metadata": {
    "slideshow": {
     "slide_type": "slide"
    }
   },
   "source": [
    "### Machine learning technique\n",
    "\n",
    "Split data set into training and testing data.\n",
    "\n",
    "We will provide random data points for the algorithm to \"learn\". \n",
    "\n",
    "We will test how well the model does by providing the testing data to the algorithm after it trains. \n"
   ]
  },
  {
   "cell_type": "code",
   "execution_count": null,
   "metadata": {
    "slideshow": {
     "slide_type": "subslide"
    }
   },
   "outputs": [],
   "source": [
    "array = df.values\n",
    "# All measurements\n",
    "X = array[:,0:4]\n",
    "# All classes\n",
    "y = array[:,4]\n",
    "# Split-out validation dataset\n",
    "X_train, X_validation, Y_train, Y_validation = train_test_split(X, y, test_size=0.20, random_state=1, shuffle=True)"
   ]
  },
  {
   "cell_type": "code",
   "execution_count": null,
   "metadata": {
    "slideshow": {
     "slide_type": "subslide"
    }
   },
   "outputs": [],
   "source": [
    "# Make predictions on validation dataset\n",
    "model = SVC(gamma='auto')\n",
    "model.fit(X_train, Y_train)\n",
    "predictions = model.predict(X_validation)"
   ]
  },
  {
   "cell_type": "code",
   "execution_count": null,
   "metadata": {
    "slideshow": {
     "slide_type": "subslide"
    }
   },
   "outputs": [],
   "source": [
    "print(accuracy_score(Y_validation, predictions))"
   ]
  },
  {
   "cell_type": "markdown",
   "metadata": {
    "slideshow": {
     "slide_type": "fragment"
    }
   },
   "source": [
    "We can see that the accuracy is 0.966 or about 96% on the hold out dataset."
   ]
  },
  {
   "cell_type": "code",
   "execution_count": null,
   "metadata": {
    "slideshow": {
     "slide_type": "subslide"
    }
   },
   "outputs": [],
   "source": [
    "print(classification_report(Y_validation, predictions))"
   ]
  },
  {
   "cell_type": "markdown",
   "metadata": {
    "slideshow": {
     "slide_type": "fragment"
    }
   },
   "source": [
    "Finally, the classification report provides a breakdown of each class by precision, recall, f1-score and support showing excellent results (granted the validation dataset was small)."
   ]
  },
  {
   "cell_type": "code",
   "execution_count": null,
   "metadata": {
    "slideshow": {
     "slide_type": "subslide"
    }
   },
   "outputs": [],
   "source": [
    "classifier = model.fit(X_train, Y_train)\n",
    "class_names = iris.target_names\n",
    "print(\"Confusion matrix\")\n",
    "plot_confusion_matrix(classifier, X_validation, Y_validation,\n",
    "                                 display_labels=class_names,\n",
    "                                 cmap=plt.cm.Blues,\n",
    "                                 normalize=None);"
   ]
  },
  {
   "cell_type": "markdown",
   "metadata": {
    "slideshow": {
     "slide_type": "fragment"
    }
   },
   "source": [
    " The diagonal elements represent the number of points for which the predicted label is equal to the true label, while off-diagonal elements are those that are mislabeled by the classifier. "
   ]
  },
  {
   "cell_type": "markdown",
   "metadata": {
    "slideshow": {
     "slide_type": "slide"
    }
   },
   "source": [
    "### Let's take a look at the predicted values"
   ]
  },
  {
   "cell_type": "code",
   "execution_count": null,
   "metadata": {
    "slideshow": {
     "slide_type": "subslide"
    }
   },
   "outputs": [],
   "source": [
    "pred_df = pd.DataFrame(X_validation,columns=df.columns[0:4])\n",
    "\n",
    "pred_df['Predicted Class'] = predictions"
   ]
  },
  {
   "cell_type": "code",
   "execution_count": null,
   "metadata": {
    "slideshow": {
     "slide_type": "subslide"
    }
   },
   "outputs": [],
   "source": [
    "## 11 setosa, 12 versicolor, 7 virginica\n",
    "pred_df[pred_df['Predicted Class']=='Iris-virginica']"
   ]
  },
  {
   "cell_type": "markdown",
   "metadata": {
    "slideshow": {
     "slide_type": "subslide"
    }
   },
   "source": [
    "### Which one did it get wrong? \n",
    "\n",
    "The machine classified one sample as virginica, when it was versicolor.\n",
    "\n",
    "This entry is in row with index 22."
   ]
  },
  {
   "cell_type": "code",
   "execution_count": null,
   "metadata": {
    "slideshow": {
     "slide_type": "subslide"
    }
   },
   "outputs": [],
   "source": [
    "import numpy as np\n",
    "y_test = np.asarray(Y_validation)\n",
    "misclassified = np.where(y_test != model.predict(X_validation))\n",
    "\n",
    "print(misclassified)"
   ]
  },
  {
   "cell_type": "markdown",
   "metadata": {
    "slideshow": {
     "slide_type": "slide"
    }
   },
   "source": [
    "<h2 align='center'> What are the potential impacts on education and society, and how do we talk to students about all of this? </h2>\n",
    "\n",
    "- What happens when we apply ML to problems involving human choices? \n",
    "\n",
    "- Example: who gets approved for a mortgage, who gets admitted to high school, who is selected for a job interview\n",
    "\n",
    "Impact of error present in algorithm must be considered. \n",
    "\n",
    "Predictions will be made based on training data that is provided $\\Rightarrow$ bias in training data increases probability for bias in predicted outcome. \n",
    "\n",
    "#### To prevent this: bias must be addressed when a scientist asks a question and proceeds to the data collection stage in the data science process.  "
   ]
  },
  {
   "cell_type": "markdown",
   "metadata": {
    "slideshow": {
     "slide_type": "slide"
    }
   },
   "source": [
    "<h2 align='center'>Real examples</h2>\n",
    "\n",
    "Amazon ditches AI recruiting tool that didn’t like women (Reuters) [link](https://www.reuters.com/article/us-amazon-com-jobs-automation-insight-idUSKCN1MK08G)\n",
    "\n",
    "\n",
    "Can Racist Algorithms Be Fixed? (The Marshall Project) [link](https://www.themarshallproject.org/2019/07/01/can-racist-algorithms-be-fixed)\n",
    "\n",
    "\n",
    "Black and Asian faces misidentified more often by facial recognition software (CBC) [link](https://www.cbc.ca/news/technology/facial-recognition-race-1.5403899)\n",
    "\n",
    "\n",
    "UK ditches exam results generated by biased algorithm after student protests (The Verge) [link](https://www.theverge.com/2020/8/17/21372045/uk-a-level-results-algorithm-biased-coronavirus-covid-19-pandemic-university-applications)"
   ]
  },
  {
   "cell_type": "markdown",
   "metadata": {
    "slideshow": {
     "slide_type": "slide"
    }
   },
   "source": [
    "<h2 align='center'> What can we do? </h2>\n",
    "\n",
    "- Work towards addressing our own biases in the classroom and daily life\n",
    "\n",
    "- Identify how our biases play a role in our decision making\n",
    "\n",
    "- Identify how our biases affect the machines we program \n",
    "\n",
    "- Collaborate with people offering diverse points of view"
   ]
  },
  {
   "cell_type": "markdown",
   "metadata": {
    "slideshow": {
     "slide_type": "slide"
    }
   },
   "source": [
    "![Callysto.ca Banner](https://github.com/callysto/curriculum-notebooks/blob/master/callysto-notebook-banner-top.jpg?raw=true)\n",
    "\n",
    "<h2 align='center'>Getting Started with Callysto</h2>\n",
    "\n",
    "- Feedback form https://tinyurl.com/y2a3uhdt\n",
    "- Online self-paced courses (courses.callysto.ca)  \n",
    "- Preview our learning modules https://callysto.github.io/curriculum-jbook/intro.html\n",
    "- Contact us for “in-class” workshops, teacher PD, virtual hackathons, and more\n",
    "\n",
    "Email: contact@callysto.ca\n",
    "\n",
    "On Twitter: @callysto_canada\n",
    "\n",
    "Site: https://www.callysto.ca\n",
    "\n",
    "YouTube https://www.youtube.com/channel/UCPdq1SYKA42EZBvUlNQUAng "
   ]
  },
  {
   "cell_type": "markdown",
   "metadata": {
    "slideshow": {
     "slide_type": "skip"
    }
   },
   "source": [
    "[![Callysto.ca License](https://github.com/callysto/curriculum-notebooks/blob/master/callysto-notebook-banner-bottom.jpg?raw=true)](https://github.com/callysto/curriculum-notebooks/blob/master/LICENSE.md)"
   ]
  }
 ],
 "metadata": {
  "celltoolbar": "Slideshow",
  "kernelspec": {
   "display_name": "Python 3",
   "language": "python",
   "name": "python3"
  },
  "language_info": {
   "codemirror_mode": {
    "name": "ipython",
    "version": 3
   },
   "file_extension": ".py",
   "mimetype": "text/x-python",
   "name": "python",
   "nbconvert_exporter": "python",
   "pygments_lexer": "ipython3",
   "version": "3.8.6"
  },
  "rise": {
   "autolaunch": false,
   "backimage": "Bgnd0.jpg"
  }
 },
 "nbformat": 4,
 "nbformat_minor": 4
}
