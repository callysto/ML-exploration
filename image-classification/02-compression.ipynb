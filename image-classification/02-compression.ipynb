{
 "cells": [
  {
   "cell_type": "markdown",
   "id": "0e243914-f0c0-435b-9ae3-3dacf5db0ec1",
   "metadata": {},
   "source": [
    "![Callysto.ca Banner](https://github.com/callysto/curriculum-notebooks/blob/master/callysto-notebook-banner-top.jpg?raw=true)\n",
    " \n",
    "<a href=\"https://hub.callysto.ca/jupyter/hub/user-redirect/git-pull?repo=https%3A%2F%2Fgithub.com%2Fcallysto%2FML-exploration&branch=main&urlpath=image-classification/02-compression.ipynb&depth=1\" target=\"_parent\"><img src=\"https://raw.githubusercontent.com/callysto/curriculum-notebooks/master/open-in-callysto-button.svg?sanitize=true\" width=\"123\" height=\"24\" alt=\"Open in Callysto\"></a>"
   ]
  },
  {
   "cell_type": "markdown",
   "id": "7e3c5ad5-c455-4133-a080-982910b9ffc3",
   "metadata": {},
   "source": [
    "# Compression\n",
    "\n",
    "As we learned in the previous notebooks, images can be easily represented as numbers that describe the colours in each pixel. Manipulating those pixels can also be accomplished with some mathematical tricks that leave the desired effect on the image. We were able to demonstrate this by showing the exact pixel values and how each function modifies them.\n",
    "\n",
    "However, there is a tradeoff when using the exact colour values to describe each pixel within the image, as we do with a bitmap image. Image formats that store the individual pixel values are extremely high detail (such as BMP or TIFF file formats), but they often result in extremely large file sizes. The large file sizes can be problematic when considering storage and transmission of the images files, especially if there are a large number of images! This is where [image compression](https://en.wikipedia.org/wiki/Image_compression) becomes useful.\n",
    "\n",
    "To get around the issue of large file sizes, several different forms of image compression have been developed to reduce the file size while retaining as much of the original detail as possible. Generally, the more the image is compressed, the smaller the file size, but more detail is lost when displaying the uncompressed image. In this notebook, we'll cover a few of the more popular image compression techniques, show how the methods affect the underlying pixel values, and bring them all together as they work within the [JPEG](https://en.wikipedia.org/wiki/JPEG) file format!"
   ]
  },
  {
   "cell_type": "markdown",
   "id": "958b3ad3-75bd-44ad-8ecb-ea7772b2718a",
   "metadata": {},
   "source": [
    "## File Sizes\n",
    "\n",
    "An important consideration in computing is how much data is needed to represent a file. We call this *file size*, and no doubt you've came across file size at some point when storing or transferring files on a computer or another device. Large files can make it difficult to store information in memory, whether temporarily or permanently, and for the same reasons it can be difficult to move a file between storage if it must be held in memory while being transferred. \n",
    "\n",
    "As an example, let's consider an image that's been stored in a 24-bit RGB format, where each colour has 8-bit range for the intensity. That means that for each pixel, it requires 24 bits of information to store it. Or, if we convert to *bytes* as computers like to do, each pixel would be 3 bytes of information (1 byte = 8 bits). Now, that might not seem like a very large file, but consider how many pixels are in a single image. A high-definition (HD) image has 1920x1080 pixels, for a total number of 2,073,600 pixels equalling 6,220,800 bytes or **6.22 MB**. Nowadays, 4K (or higher!) resolution images are becoming far more common, and without compression they'd be upwards of 25 MB per image. (Note: there is more information contained in an image file than the pixel colours, such as the header and metadata, but the size of that information does not change based on image resolution).\n",
    "\n",
    "To reduce file sizes, computer scientists employ a process known as *encoding* to reduce file sizes to a fraction of their original size when stored as pixel matrices.\n",
    "\n",
    "### Encoding\n",
    "\n",
    "For as long as humans have been trying to send messages to each other, there have always been limitations on how much information can be transmitted at once. The history of the scientists and mathematicians and the creative solutions they came up with to solve these problems is a [story worth reading on its own](https://en.wikipedia.org/wiki/Character_encoding#History), but eventually those solutions made their way to computers and the data on which computers run.\n",
    "\n",
    "In short, encoding is a way to reduce the amount of information in a piece of data by finding an underlying pattern, and describing the data using that pattern instead of the numbers themselves. This allows more information to fit into the same amount of space, or the same amount of information in a smaller space. This ability to fit more information in a smaller space is attractive when memory constraints limit file size, so all the compression techniques we'll talk about here employ some form of encoding. As you'll see, many of the these methods take advantage of mathematical patterns, as well as biological limitations of humans, to reduce the data required to display an image."
   ]
  },
  {
   "cell_type": "markdown",
   "id": "126f0763-0286-45c7-9ed2-968c6acd5f12",
   "metadata": {},
   "source": [
    "## Chroma Subsampling\n",
    "\n",
    "This first technique takes advantage of the limitations of human ability to perceive colour, or *chrominance*. More preceisly, humans are better able to distinguish between shades of light and dark, or *luminance*, than they are between different colours, so by maintaining a wider range of values to discriminate luminance, and a smaller range to chrominance, you can represent an image using less data. Very slight changes in colour, also known as *high-frequency changes*, are also difficult for the human eye to capture, and while chroma subsampling takes advantage of this fact, we'll touch on it again in the next part.\n",
    "\n",
    "Remembering back to the notebook about pixel values, we showed that any colour can be represented by combining different intensities of red, green, and blue (RGB). What we *didn't* mention though, and perhaps it's obvious now, is that by summing together the values of the individual colours, you are effectively able to measure brightness (or luminance). When doing chroma subsampling, this value can be extracted from the individual RGB values, and represented on its own, while simultaneously being *downsampled* from its original range (usually 256) to a smaller value, say 8. RGB values are then split into two different chrominance values and downsampled, but at at even greater compression ratio, reduced perhaps as low as 4 for each value of chrominance:\n",
    "\n",
    "<center><img src=\"https://upload.wikimedia.org/wikipedia/commons/f/f2/Common_chroma_subsampling_ratios.svg\" /></center>\n",
    "<center> <a href=\"https://en.wikipedia.org/wiki/Chroma_subsampling\">https://en.wikipedia.org/wiki/Chroma_subsampling</a></center><br>"
   ]
  },
  {
   "cell_type": "markdown",
   "id": "b8d591c5-2164-4510-81d6-b66cd2734ba6",
   "metadata": {},
   "source": [
    "## Discrete Cosine Transform\n",
    "\n",
    "As we mentioned in the encoding section, it's often convenient to represent data as part of a pattern. If the data is represented numerically, which we've shown it can be, that pattern can take the form of a mathematical function. Many years ago, [Joseph Fourier](https://en.wikipedia.org/wiki/Fourier_analysis) showed that a general function can be approximated by combining multiple different trigonometric functions, which are far simpler to parameterize, and, more importantly, uses fewer numbers.\n",
    "\n",
    "For a DCT, first the image is split into squares of 8x8 pixels. Within each square, the image can then be decomposed into the following 64 waves:\n",
    "\n",
    "<center><img src=\"https://upload.wikimedia.org/wikipedia/commons/6/63/Dct-table.png\" /></center>\n",
    "<center> <a href=\"https://en.wikipedia.org/wiki/Discrete_cosine_transform\">https://en.wikipedia.org/wiki/Discrete_cosine_transform</a></center><br>\n"
   ]
  },
  {
   "cell_type": "markdown",
   "id": "827d64ae-63bf-476c-a43b-cd1dfc10b03a",
   "metadata": {},
   "source": [
    "## Colour Quantization"
   ]
  },
  {
   "cell_type": "code",
   "execution_count": null,
   "id": "81709b5a-915e-4c40-b63a-5a32dac05353",
   "metadata": {},
   "outputs": [],
   "source": []
  },
  {
   "cell_type": "code",
   "execution_count": null,
   "id": "2fb59c41-1dc0-4cf1-a3a5-97bb7354f64d",
   "metadata": {},
   "outputs": [],
   "source": []
  },
  {
   "cell_type": "code",
   "execution_count": null,
   "id": "9147413e-e912-4f05-aab2-9eb81b702098",
   "metadata": {},
   "outputs": [],
   "source": []
  },
  {
   "cell_type": "code",
   "execution_count": null,
   "id": "8716434d-1afe-48c4-a189-8aa6034d8a30",
   "metadata": {},
   "outputs": [],
   "source": []
  },
  {
   "cell_type": "code",
   "execution_count": null,
   "id": "470cec56-e0e5-41cf-97de-081bf6eb036b",
   "metadata": {},
   "outputs": [],
   "source": []
  },
  {
   "cell_type": "code",
   "execution_count": null,
   "id": "2e01db34-dd50-4633-9553-27de8c4bfeaf",
   "metadata": {},
   "outputs": [],
   "source": []
  },
  {
   "cell_type": "code",
   "execution_count": null,
   "id": "02992699-9630-451d-9459-8b7d0103c081",
   "metadata": {},
   "outputs": [],
   "source": []
  },
  {
   "cell_type": "markdown",
   "id": "004b80c9-5ffd-4ddf-b2fc-8dc22e8b78fc",
   "metadata": {},
   "source": [
    "[![Callysto.ca License](https://github.com/callysto/curriculum-notebooks/blob/master/callysto-notebook-banner-bottom.jpg?raw=true)](https://github.com/callysto/curriculum-notebooks/blob/master/LICENSE.md)"
   ]
  },
  {
   "cell_type": "code",
   "execution_count": null,
   "id": "f4bff853-93b5-4645-add2-29241d01e4e2",
   "metadata": {},
   "outputs": [],
   "source": []
  }
 ],
 "metadata": {
  "kernelspec": {
   "display_name": "Python 3 (ipykernel)",
   "language": "python",
   "name": "python3"
  },
  "language_info": {
   "codemirror_mode": {
    "name": "ipython",
    "version": 3
   },
   "file_extension": ".py",
   "mimetype": "text/x-python",
   "name": "python",
   "nbconvert_exporter": "python",
   "pygments_lexer": "ipython3",
   "version": "3.9.12"
  }
 },
 "nbformat": 4,
 "nbformat_minor": 5
}
