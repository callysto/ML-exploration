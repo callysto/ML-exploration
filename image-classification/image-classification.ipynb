{
 "cells": [
  {
   "cell_type": "markdown",
   "id": "b7b09cfa-bf2f-4cdc-83cf-d17e170cef1b",
   "metadata": {},
   "source": [
    "# Image Classification\n",
    "\n",
    "### Goals:\n",
    "1. Representing image as histogram\n",
    "1. Image classification using CNN\n",
    "1. Recreating 3D image from 2D source\n",
    "1. Understanding how images are represented as data"
   ]
  },
  {
   "cell_type": "code",
   "execution_count": null,
   "id": "9b287923-6056-4ddb-a348-c45acf928740",
   "metadata": {},
   "outputs": [],
   "source": []
  }
 ],
 "metadata": {
  "kernelspec": {
   "display_name": "Python 3 (ipykernel)",
   "language": "python",
   "name": "python3"
  },
  "language_info": {
   "codemirror_mode": {
    "name": "ipython",
    "version": 3
   },
   "file_extension": ".py",
   "mimetype": "text/x-python",
   "name": "python",
   "nbconvert_exporter": "python",
   "pygments_lexer": "ipython3",
   "version": "3.9.12"
  }
 },
 "nbformat": 4,
 "nbformat_minor": 5
}
